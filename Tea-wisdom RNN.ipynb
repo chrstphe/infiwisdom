{
 "cells": [
  {
   "cell_type": "code",
   "execution_count": 12,
   "metadata": {
    "collapsed": false
   },
   "outputs": [],
   "source": [
    "from itertools import chain\n",
    "import requests\n",
    "import re\n",
    "from IPython.display import HTML\n",
    "from bs4 import BeautifulSoup \n",
    "signinurl = 'https://www.hipchat.com/sign_in'"
   ]
  },
  {
   "cell_type": "code",
   "execution_count": 13,
   "metadata": {
    "collapsed": true
   },
   "outputs": [],
   "source": [
    "def getnext(req):\n",
    "    sp = BeautifulSoup(req.text, 'html.parser')\n",
    "    obj = sp(text='Older »')\n",
    "\n",
    "    if len(obj) > 0:\n",
    "        link = obj[0].parent.attrs['href']\n",
    "    else:\n",
    "        link = None\n",
    "    return(link)\n",
    "\n",
    "def getwisdoms(html):\n",
    "    sp = BeautifulSoup(html, 'html.parser')\n",
    "    obj = sp(text = lambda x: x.lower().find('tea-wisdom'))\n",
    "    return(obj)\n",
    "\n",
    "    if len(obj) > 0:\n",
    "        link = obj[0].parent.attrs['href']\n",
    "    else:\n",
    "        link = None\n",
    "    return(link)\n",
    "\n",
    "def getnext(req):\n",
    "    soup2 = BeautifulSoup(req.text, 'html.parser')\n",
    "    obj = soup2(text='Older »')\n",
    "\n",
    "    if len(obj) > 0:\n",
    "        link = obj[0].parent.attrs['href']\n",
    "    else:\n",
    "        link = None\n",
    "    return(link)"
   ]
  },
  {
   "cell_type": "code",
   "execution_count": null,
   "metadata": {
    "collapsed": true
   },
   "outputs": [],
   "source": [
    "import getpass\n",
    "email = getpass.getpass()"
   ]
  },
  {
   "cell_type": "code",
   "execution_count": 17,
   "metadata": {
    "collapsed": false
   },
   "outputs": [
    {
     "name": "stdout",
     "output_type": "stream",
     "text": [
      "········\n"
     ]
    }
   ],
   "source": [
    "password = getpass.getpass()"
   ]
  },
  {
   "cell_type": "code",
   "execution_count": 18,
   "metadata": {
    "collapsed": false
   },
   "outputs": [],
   "source": [
    "txt = []\n",
    "link = '/embedded/search?q=tea-wisdom&t=rid-189179&p=1'\n",
    "with requests.Session() as s:\n",
    "    r = s.get('https://www.hipchat.com/sign_in')\n",
    "    soup = BeautifulSoup(r.text, 'html.parser')\n",
    "    payload = dict(xsrf_token=soup.input.attrs['value'], \n",
    "               email = email, \n",
    "               password = password,\n",
    "               stay_signed_in = 1,\n",
    "               signin = 'Log in',\n",
    "               d = '/embedded/search?q=tea-wisdom&t=rid-189179&p=1')\n",
    "    tmp = s.post(signinurl, data=payload)\n",
    "    txt.append(tmp.text)\n",
    "    link = getnext(tmp)\n",
    "    while link is not None:\n",
    "        p = s.get(link)\n",
    "        txt.append(p.text)\n",
    "        link = getnext(p)\n",
    "        \n",
    "\n",
    "#r = requests.get('https://kingcom.hipchat.com/embedded/search?q=tea-wisdom&t=rid-189179')"
   ]
  },
  {
   "cell_type": "code",
   "execution_count": 19,
   "metadata": {
    "collapsed": false
   },
   "outputs": [
    {
     "data": {
      "text/plain": [
       "15"
      ]
     },
     "execution_count": 19,
     "metadata": {},
     "output_type": "execute_result"
    }
   ],
   "source": [
    "len(txt)"
   ]
  },
  {
   "cell_type": "code",
   "execution_count": 20,
   "metadata": {
    "collapsed": false
   },
   "outputs": [],
   "source": [
    "ts = map(lambda x: BeautifulSoup(x, 'html.parser'), txt)\n",
    "#[for x in ]\n",
    "\n",
    "wisdomlist = [t.findAll(text=re.compile(\"Tea-wisdom of the day:\")) for t in ts]\n",
    "wisdomlist = list(chain(*wisdomlist))"
   ]
  },
  {
   "cell_type": "code",
   "execution_count": 21,
   "metadata": {
    "collapsed": false
   },
   "outputs": [],
   "source": [
    "cleanwisdoms = [''.join(x.parent.text).replace('\\n','').strip() for x in wisdomlist]"
   ]
  },
  {
   "cell_type": "code",
   "execution_count": 22,
   "metadata": {
    "collapsed": false
   },
   "outputs": [
    {
     "data": {
      "text/plain": [
       "['Tea-wisdom of the day: Develop the power of listening.',\n",
       " 'Tea-wisdom of the day: Our head bows and our heart is filled with love and joy.',\n",
       " 'Tea-wisdom of the day: Live through consciousness not through emotion.',\n",
       " 'Tea-wisdom of the day: Love is ecstasy.',\n",
       " 'Tea-wisdom of the day: Compassion creates understanding.',\n",
       " 'Tea-wisdom of the day: Our intuition comes from innocence.',\n",
       " 'Tea-wisdom of the day: When ego is lost, then universality exists.',\n",
       " 'Tea-wisdom of the day: Mental happiness is total relaxation.',\n",
       " 'Tea-wisdom of the day: You are unlimited.',\n",
       " 'Tea-wisdom of the day: Uplift everybody and uplift yourself.',\n",
       " 'Tea-wisdom of the day: Life is a flow of love; your participation is requested.',\n",
       " 'Tea-wisdom of the day: Socialise with compassion, kindness and grace.',\n",
       " 'Tea-wisdom of the day: Empty yourself and the universe fill you.',\n",
       " 'Tea-wisdom of the day: When ego is lost, then universality exists.',\n",
       " 'Tea-wisdom of the day: To be calm is the highest achievement of the self.',\n",
       " 'Tea-wisdom of the day: May this day bring you peace, tranquility and harmony.',\n",
       " 'Tea-wisdom of the day: Experience will give you wisdom.',\n",
       " 'Tea-wisdom of the day: Give forgiveness; that is your greatness.',\n",
       " 'Tea-wisdom of the day: Live in your strength.',\n",
       " 'Tea-wisdom of the day: Every smile is a direct achievement.',\n",
       " 'Tea-wisdom of the day: You are unlimited.',\n",
       " 'Tea-wisdom of the day: An attitude of gratitude brings opportunities.',\n",
       " 'Tea-wisdom of the day: Love is an elevated self.',\n",
       " 'Tea-wisdom of the day: Compassion has no limit. Kindness has no enemy.',\n",
       " 'Tea-wisdom of the day: Walk in balance on mother Earth.',\n",
       " 'Tea-wisdom of the day: True surrender is true power.',\n",
       " \"Tea-wisdom of the day: Let your heart speak to other's hearts.\",\n",
       " 'Tea-wisdom of the day: See me with a new face every day.',\n",
       " 'Tea-wisdom of the day: Appreciate yourself and honor your soul.',\n",
       " 'Tea-wisdom of the day: Be compassionate to yourself.',\n",
       " 'Tea-wisdom of the day: Accept this moment as it is and be in peace.',\n",
       " 'Tea-wisdom of the day: Walk in balance on mother Earth. (Courtesy of @BrianBurford )',\n",
       " 'Tea-wisdom of the day: Raise your words not your voice.',\n",
       " 'Tea-wisdom of the day: Sit and travel into the deepest part of your being.',\n",
       " 'Tea-wisdom of the day: Recognize the other person is you.',\n",
       " 'Tea-wisdom of the day: The art of happiness is to serve all.',\n",
       " \"Tea-wisdom of the day: We can find ourselves only in someone's mirror. (Courtesy of @BrianBurford)\",\n",
       " 'Tea-wisdom of the day: Wake up to your own truth.',\n",
       " 'Tea-wisdom of the day: Without wings, I fly about looking for you. (Courtesy of @BrianBurford)',\n",
       " 'Tea-wisdom of the day: We are spiritual beings having a human experience.',\n",
       " 'Tea-wisdom of the day: Without opening your door, you can know the whole world. (Courtesy of @BrianBurford)',\n",
       " 'Tea-wisdom of the day: Give up your limiting beliefs.',\n",
       " 'Tea-wisdom of the day: Do easy things, before they become too hard.',\n",
       " 'Tea-wisdom of the day: Do less correcting and more connecting.',\n",
       " 'Tea-wisdom of the day: Give yourself a chance. (Courtesy of @BrianBurford)',\n",
       " 'Tea-wisdom of the day: Give up your resistance to change.',\n",
       " 'Tea-wisdom of the day: Be not affected by neither praise nor insult. (Again, courtesy of @BrianBurford)',\n",
       " \"Tea-wisdom of the day: When in doubt, do the courageous thing. (Today's tea-wisdom, courtesy of @BrianBurford)\",\n",
       " 'Tea-wisdom of the day: My heart is nothing but the home of god.',\n",
       " 'Tea-wisdom of the day: Goodness is never fearful.',\n",
       " 'Tea-wisdom of the day: Beauty resides in your own eyes.',\n",
       " 'Tea-wisdom of the day: When you let go of what you think life should be, life gets clear.',\n",
       " 'Tea-wisdom of the day: Whatever you do, be in love.',\n",
       " 'Tea-wisdom of the day: Let your life become your altar.',\n",
       " 'Tea-wisdom of the day: One smile may open the world for you.',\n",
       " 'Tea-wisdom of the day: Patience is looking at the night and seeing the day.',\n",
       " 'Tea-wisdom of the day: Lucky is the eye that recognises reality.',\n",
       " 'Tea-wisdom of the day: Life is full of power – live it.',\n",
       " 'Tea-wisdom of the day: Master yourself.',\n",
       " 'Tea-wisdom of the day: Life is a working meditation.',\n",
       " 'Tea-wisdom of the day: Life is flowing – moment to moment – flow with it.',\n",
       " 'Tea-wisdom of the day: Look for the devil in you, not in others.',\n",
       " 'Tea-wisdom of the day: One smile may open the world for you.',\n",
       " 'Tea-wisdom of the day: One who knows himself knows god.',\n",
       " 'Tea-wisdom of the day: Live with an attitude of gratitude.',\n",
       " 'Tea-wisdom of the day: Let the disease of ego depart.',\n",
       " 'Tea-wisdom of the day: Let us go and dwell in the heart of that precious secret.',\n",
       " 'Tea-wisdom of the day: Look at yourself and remember me.',\n",
       " 'Tea-wisdom of the day: Live with reverence – for yourself and others.',\n",
       " 'Tea-wisdom of the day: Live to experience, to give.',\n",
       " 'Tea-wisdom of the day: Be the answer not the question.',\n",
       " 'Tea-wisdom of the day: Oh, see the astonishing light of your own being.',\n",
       " 'Tea-wisdom of the day: One does not make friends. One recognizes them.',\n",
       " 'Tea-wisdom of the day: Look on everything with an impartial eye.',\n",
       " 'Tea-wisdom of the day: Look at the optimism of nature.',\n",
       " 'Tea-wisdom of the day: One day your heart will take you to your lover.',\n",
       " 'Tea-wisdom of the day: Let silence take you to the core of life.',\n",
       " 'Tea-wisdom of the day: Let life be with you, not against you.',\n",
       " 'Tea-wisdom of the day: Look within, everything you want is there.',\n",
       " 'Tea-wisdom of the day: One’s happiness can make the entire world smile.',\n",
       " 'Tea-wisdom of the day: Let us not forget that we belong to each other.',\n",
       " 'Tea-wisdom of the day: Lovers are patient.',\n",
       " 'Tea-wisdom of the day: A broken heart hides so many treasures.',\n",
       " 'Tea-wisdom of the day: Love is yearning.',\n",
       " 'Tea-wisdom of the day: All of nature is listening without ears.',\n",
       " 'Tea-wisdom of the day: All of nature is singing without tongues.',\n",
       " \"Tea-wisdom of the day: One's sorrow at the other side of the world can make the entire world suffer.\",\n",
       " 'Tea-wisdom of the day: Life is a flow of love, only your participation in requested.',\n",
       " 'Tea-wisdom of the day: May this day be a day of peace and joy.',\n",
       " 'Tea-wisdom of the day: Meditate on your breath of life.',\n",
       " 'Tea-wisdom of the day: My soul is my guide.',\n",
       " 'Tea-wisdom of the day: Our intuition lies in our intuition.',\n",
       " 'Tea-wisdom of the day: My heart is nothing but the home of god.',\n",
       " 'Tea-wisdom of the day: Patience is looking at the night and seeing the day.',\n",
       " 'Tea-wisdom of the day: A soul moon appeared in the path of my heart.',\n",
       " 'Tea-wisdom of the day: Lovers are patient.',\n",
       " 'Tea-wisdom of the day: A symphony of love playing to the world.',\n",
       " 'Tea-wisdom of the day: Love spreads knowledge... and Carlos spreads',\n",
       " \"Tea-wisdom of the day: Accept yourself, you don't have to be accepted by others.\",\n",
       " 'Tea-wisdom of the day: Love knows no barriers, no desires, no needs, no wants.',\n",
       " 'Tea-wisdom of the day: Love knows the secret way there.',\n",
       " 'Tea-wisdom of the day: Lose yourself completely, return to the root.',\n",
       " 'Tea-wisdom of the day: Love is simple, yet a miracle.',\n",
       " 'Tea-wisdom of the day: Love says \"Let yourself, go!\"',\n",
       " 'Tea-wisdom of the day: Love makes you aware.',\n",
       " \"Tea-wisdom of the day: Apologize if you've hurt.\",\n",
       " 'Tea-wisdom of the day: Apart from love, everything passes away.',\n",
       " 'Tea-wisdom of the day: Life is sacred.',\n",
       " 'Tea-wisdom of the day: Know that one day your pain will become your cure.',\n",
       " 'Tea-wisdom of the day: Love heals.',\n",
       " 'Tea-wisdom of the day: Life is so hard – how can we be anything but kind?',\n",
       " 'Tea-wisdom of the day: Love is energy, and energy must move all the time.',\n",
       " 'Tea-wisdom of the day: Let your life become your altar.',\n",
       " 'Tea-wisdom of the day: Love is without condition.',\n",
       " \"Tea-wisdom of the day: Life's picture is constantly undergoing change.\",\n",
       " 'Tea-wisdom of the day: Life is full of power — live it.',\n",
       " 'Tea-wisdom of the day: More hugging—less tugging.',\n",
       " \"Tea-wisdom of the day: Let's only say what our hearts desire.\",\n",
       " \"Tea-wisdom of the day: Let's keep silence but make our hearts move.\",\n",
       " 'Tea-wisdom of the day: How can I honor you – how can I serve you.',\n",
       " 'Tea-wisdom of the day: How quickly do you do, what your soul wants.',\n",
       " 'Tea-wisdom of the day: How quickly do you do, what your soul wants.',\n",
       " 'Tea-wisdom of the day: Finger paint more – point the finger less.',\n",
       " 'Tea-wisdom of the day: Find peace within.',\n",
       " 'Tea-wisdom of the day: Life is perfect.',\n",
       " 'Tea-wisdom of the day: If you have little, give of your heart',\n",
       " 'Tea-wisdom of the day: Remember that pain is only thoughts.',\n",
       " 'Tea-wisdom of the day: Blessed is the footstep that treads on the path of love.']"
      ]
     },
     "execution_count": 22,
     "metadata": {},
     "output_type": "execute_result"
    }
   ],
   "source": [
    "cleanwisdoms"
   ]
  },
  {
   "cell_type": "code",
   "execution_count": 45,
   "metadata": {
    "collapsed": false
   },
   "outputs": [],
   "source": [
    "import re\n",
    "\n",
    "pattern = re.compile('\\(.+?\\)', re.I)\n",
    "purewisdoms = [x.replace('Tea-wisdom of the day: ', '') for x in cleanwisdoms]\n",
    "purewisdoms = set([pattern.sub('', x).strip() for x in purewisdoms if \"carlos\" not in x.lower()])\n"
   ]
  },
  {
   "cell_type": "code",
   "execution_count": 46,
   "metadata": {
    "collapsed": false
   },
   "outputs": [],
   "source": [
    "from math import ceil, floor\n",
    "\n",
    "def get_wisdoms(n):\n",
    "    return([purewisdoms[x] for x in np.random.randint(len(purewisdoms), size = n)])\n",
    "\n",
    "def get_wisdomsa(n):\n",
    "    return([purewisdoms[x] for x in np.random.randint(floor(len(purewisdoms)/2), size = n)])\n",
    "\n",
    "def get_wisdomsb(n):\n",
    "    return([purewisdoms[x + floor(len(purewisdoms)/2)] for x in np.random.randint(floor(len(purewisdoms)/2), size = n)])"
   ]
  },
  {
   "cell_type": "code",
   "execution_count": 47,
   "metadata": {
    "collapsed": false
   },
   "outputs": [
    {
     "data": {
      "text/plain": [
       "118"
      ]
     },
     "execution_count": 47,
     "metadata": {},
     "output_type": "execute_result"
    }
   ],
   "source": [
    "len(purewisdoms)"
   ]
  },
  {
   "cell_type": "code",
   "execution_count": 145,
   "metadata": {
    "collapsed": false
   },
   "outputs": [],
   "source": [
    "with open('teawisdoms.txt', 'w') as c:\n",
    "    for line in get_wisdomsa(100000):\n",
    "        c.write(''.join([line, \"\\n\"]))\n",
    "    for line in get_wisdomsb(100000):\n",
    "        c.write(''.join([line, \"\\n\"]))"
   ]
  },
  {
   "cell_type": "code",
   "execution_count": 50,
   "metadata": {
    "collapsed": false
   },
   "outputs": [],
   "source": [
    "with open('teawisdoms-orig.txt', 'w') as c:\n",
    "    for line in purewisdoms:\n",
    "        c.write(''.join([line, \"\\n\"]))"
   ]
  },
  {
   "cell_type": "code",
   "execution_count": 49,
   "metadata": {
    "collapsed": false
   },
   "outputs": [
    {
     "data": {
      "text/plain": [
       "{'A broken heart hides so many treasures.',\n",
       " 'A soul moon appeared in the path of my heart.',\n",
       " 'A symphony of love playing to the world.',\n",
       " 'Accept this moment as it is and be in peace.',\n",
       " \"Accept yourself, you don't have to be accepted by others.\",\n",
       " 'All of nature is listening without ears.',\n",
       " 'All of nature is singing without tongues.',\n",
       " 'An attitude of gratitude brings opportunities.',\n",
       " 'Apart from love, everything passes away.',\n",
       " \"Apologize if you've hurt.\",\n",
       " 'Appreciate yourself and honor your soul.',\n",
       " 'Be compassionate to yourself.',\n",
       " 'Be not affected by neither praise nor insult.',\n",
       " 'Be the answer not the question.',\n",
       " 'Beauty resides in your own eyes.',\n",
       " 'Blessed is the footstep that treads on the path of love.',\n",
       " 'Compassion creates understanding.',\n",
       " 'Compassion has no limit. Kindness has no enemy.',\n",
       " 'Develop the power of listening.',\n",
       " 'Do easy things, before they become too hard.',\n",
       " 'Do less correcting and more connecting.',\n",
       " 'Empty yourself and the universe fill you.',\n",
       " 'Every smile is a direct achievement.',\n",
       " 'Experience will give you wisdom.',\n",
       " 'Find peace within.',\n",
       " 'Finger paint more – point the finger less.',\n",
       " 'Give forgiveness; that is your greatness.',\n",
       " 'Give up your limiting beliefs.',\n",
       " 'Give up your resistance to change.',\n",
       " 'Give yourself a chance.',\n",
       " 'Goodness is never fearful.',\n",
       " 'How can I honor you – how can I serve you.',\n",
       " 'How quickly do you do, what your soul wants.',\n",
       " 'If you have little, give of your heart',\n",
       " 'Know that one day your pain will become your cure.',\n",
       " 'Let life be with you, not against you.',\n",
       " 'Let silence take you to the core of life.',\n",
       " 'Let the disease of ego depart.',\n",
       " 'Let us go and dwell in the heart of that precious secret.',\n",
       " 'Let us not forget that we belong to each other.',\n",
       " \"Let your heart speak to other's hearts.\",\n",
       " 'Let your life become your altar.',\n",
       " \"Let's keep silence but make our hearts move.\",\n",
       " \"Let's only say what our hearts desire.\",\n",
       " 'Life is a flow of love, only your participation in requested.',\n",
       " 'Life is a flow of love; your participation is requested.',\n",
       " 'Life is a working meditation.',\n",
       " 'Life is flowing – moment to moment – flow with it.',\n",
       " 'Life is full of power – live it.',\n",
       " 'Life is full of power — live it.',\n",
       " 'Life is perfect.',\n",
       " 'Life is sacred.',\n",
       " 'Life is so hard – how can we be anything but kind?',\n",
       " \"Life's picture is constantly undergoing change.\",\n",
       " 'Live in your strength.',\n",
       " 'Live through consciousness not through emotion.',\n",
       " 'Live to experience, to give.',\n",
       " 'Live with an attitude of gratitude.',\n",
       " 'Live with reverence – for yourself and others.',\n",
       " 'Look at the optimism of nature.',\n",
       " 'Look at yourself and remember me.',\n",
       " 'Look for the devil in you, not in others.',\n",
       " 'Look on everything with an impartial eye.',\n",
       " 'Look within, everything you want is there.',\n",
       " 'Lose yourself completely, return to the root.',\n",
       " 'Love heals.',\n",
       " 'Love is an elevated self.',\n",
       " 'Love is ecstasy.',\n",
       " 'Love is energy, and energy must move all the time.',\n",
       " 'Love is simple, yet a miracle.',\n",
       " 'Love is without condition.',\n",
       " 'Love is yearning.',\n",
       " 'Love knows no barriers, no desires, no needs, no wants.',\n",
       " 'Love knows the secret way there.',\n",
       " 'Love makes you aware.',\n",
       " 'Love says \"Let yourself, go!\"',\n",
       " 'Lovers are patient.',\n",
       " 'Lucky is the eye that recognises reality.',\n",
       " 'Master yourself.',\n",
       " 'May this day be a day of peace and joy.',\n",
       " 'May this day bring you peace, tranquility and harmony.',\n",
       " 'Meditate on your breath of life.',\n",
       " 'Mental happiness is total relaxation.',\n",
       " 'More hugging—less tugging.',\n",
       " 'My heart is nothing but the home of god.',\n",
       " 'My soul is my guide.',\n",
       " 'Oh, see the astonishing light of your own being.',\n",
       " 'One day your heart will take you to your lover.',\n",
       " 'One does not make friends. One recognizes them.',\n",
       " 'One smile may open the world for you.',\n",
       " 'One who knows himself knows god.',\n",
       " \"One's sorrow at the other side of the world can make the entire world suffer.\",\n",
       " 'One’s happiness can make the entire world smile.',\n",
       " 'Our head bows and our heart is filled with love and joy.',\n",
       " 'Our intuition comes from innocence.',\n",
       " 'Our intuition lies in our intuition.',\n",
       " 'Patience is looking at the night and seeing the day.',\n",
       " 'Raise your words not your voice.',\n",
       " 'Recognize the other person is you.',\n",
       " 'Remember that pain is only thoughts.',\n",
       " 'See me with a new face every day.',\n",
       " 'Sit and travel into the deepest part of your being.',\n",
       " 'Socialise with compassion, kindness and grace.',\n",
       " 'The art of happiness is to serve all.',\n",
       " 'To be calm is the highest achievement of the self.',\n",
       " 'True surrender is true power.',\n",
       " 'Uplift everybody and uplift yourself.',\n",
       " 'Wake up to your own truth.',\n",
       " 'Walk in balance on mother Earth.',\n",
       " 'We are spiritual beings having a human experience.',\n",
       " \"We can find ourselves only in someone's mirror.\",\n",
       " 'Whatever you do, be in love.',\n",
       " 'When ego is lost, then universality exists.',\n",
       " 'When in doubt, do the courageous thing.',\n",
       " 'When you let go of what you think life should be, life gets clear.',\n",
       " 'Without opening your door, you can know the whole world.',\n",
       " 'Without wings, I fly about looking for you.',\n",
       " 'You are unlimited.'}"
      ]
     },
     "execution_count": 49,
     "metadata": {},
     "output_type": "execute_result"
    }
   ],
   "source": [
    "purewisdoms"
   ]
  }
 ],
 "metadata": {
  "kernelspec": {
   "display_name": "Python 3",
   "language": "python",
   "name": "python3"
  },
  "language_info": {
   "codemirror_mode": {
    "name": "ipython",
    "version": 3
   },
   "file_extension": ".py",
   "mimetype": "text/x-python",
   "name": "python",
   "nbconvert_exporter": "python",
   "pygments_lexer": "ipython3",
   "version": "3.5.1"
  }
 },
 "nbformat": 4,
 "nbformat_minor": 0
}
