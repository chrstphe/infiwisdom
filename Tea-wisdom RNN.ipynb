{
 "cells": [
  {
   "cell_type": "code",
   "execution_count": 6,
   "metadata": {
    "collapsed": false
   },
   "outputs": [],
   "source": [
    "from itertools import chain\n",
    "import requests\n",
    "import re\n",
    "from IPython.display import HTML\n",
    "from bs4 import BeautifulSoup \n",
    "signinurl = 'https://www.hipchat.com/sign_in'"
   ]
  },
  {
   "cell_type": "code",
   "execution_count": 2,
   "metadata": {
    "collapsed": true
   },
   "outputs": [],
   "source": [
    "def getnext(req):\n",
    "    sp = BeautifulSoup(req.text, 'html.parser')\n",
    "    obj = sp(text='Older »')\n",
    "\n",
    "    if len(obj) > 0:\n",
    "        link = obj[0].parent.attrs['href']\n",
    "    else:\n",
    "        link = None\n",
    "    return(link)\n",
    "\n",
    "def getwisdoms(html):\n",
    "    sp = BeautifulSoup(html, 'html.parser')\n",
    "    obj = sp(text = lambda x: x.lower().find('tea-wisdom'))\n",
    "    return(obj)\n",
    "\n",
    "    if len(obj) > 0:\n",
    "        link = obj[0].parent.attrs['href']\n",
    "    else:\n",
    "        link = None\n",
    "    return(link)\n",
    "\n",
    "def getnext(req):\n",
    "    soup2 = BeautifulSoup(req.text, 'html.parser')\n",
    "    obj = soup2(text='Older »')\n",
    "\n",
    "    if len(obj) > 0:\n",
    "        link = obj[0].parent.attrs['href']\n",
    "    else:\n",
    "        link = None\n",
    "    return(link)"
   ]
  },
  {
   "cell_type": "code",
   "execution_count": 3,
   "metadata": {
    "collapsed": false
   },
   "outputs": [],
   "source": [
    "txt = []\n",
    "link = '/embedded/search?q=tea-wisdom&t=rid-189179&p=1'\n",
    "with requests.Session() as s:\n",
    "    r = s.get('https://www.hipchat.com/sign_in')\n",
    "    soup = BeautifulSoup(r.text, 'html.parser')\n",
    "    payload = dict(xsrf_token=soup.input.attrs['value'], \n",
    "               email = '', \n",
    "               password = '',\n",
    "               stay_signed_in = 1,\n",
    "               signin = 'Log in',\n",
    "               d = '/embedded/search?q=tea-wisdom&t=rid-189179&p=1')\n",
    "    tmp = s.post(signinurl, data=payload)\n",
    "    txt.append(tmp.text)\n",
    "    link = getnext(tmp)\n",
    "    while link is not None:\n",
    "        p = s.get(link)\n",
    "        txt.append(p.text)\n",
    "        link = getnext(p)\n",
    "        \n",
    "\n",
    "#r = requests.get('https://kingcom.hipchat.com/embedded/search?q=tea-wisdom&t=rid-189179')"
   ]
  },
  {
   "cell_type": "code",
   "execution_count": 7,
   "metadata": {
    "collapsed": false
   },
   "outputs": [
    {
     "data": {
      "text/plain": [
       "15"
      ]
     },
     "execution_count": 7,
     "metadata": {},
     "output_type": "execute_result"
    }
   ],
   "source": [
    "len(txt)"
   ]
  },
  {
   "cell_type": "code",
   "execution_count": null,
   "metadata": {
    "collapsed": true
   },
   "outputs": [],
   "source": [
    "import pickle\n",
    "pickle"
   ]
  },
  {
   "cell_type": "code",
   "execution_count": 8,
   "metadata": {
    "collapsed": false
   },
   "outputs": [],
   "source": [
    "ts = map(lambda x: BeautifulSoup(x, 'html.parser'), txt)\n",
    "#[for x in ]\n",
    "\n",
    "wisdomlist = [t.findAll(text=re.compile(\"Tea-wisdom of the day:\")) for t in ts]\n",
    "wisdomlist = list(chain(*wisdomlist))"
   ]
  },
  {
   "cell_type": "code",
   "execution_count": 9,
   "metadata": {
    "collapsed": false
   },
   "outputs": [],
   "source": [
    "cleanwisdoms = [''.join(x.parent.text).replace('\\n','').strip() for x in wisdomlist]"
   ]
  },
  {
   "cell_type": "code",
   "execution_count": 11,
   "metadata": {
    "collapsed": false
   },
   "outputs": [
    {
     "data": {
      "text/plain": [
       "['Tea-wisdom of the day: Love is ecstasy.',\n",
       " 'Tea-wisdom of the day: Compassion creates understanding.',\n",
       " 'Tea-wisdom of the day: Our intuition comes from innocence.',\n",
       " 'Tea-wisdom of the day: When ego is lost, then universality exists.',\n",
       " 'Tea-wisdom of the day: Mental happiness is total relaxation.',\n",
       " 'Tea-wisdom of the day: You are unlimited.',\n",
       " 'Tea-wisdom of the day: Uplift everybody and uplift yourself.',\n",
       " 'Tea-wisdom of the day: Life is a flow of love; your participation is requested.',\n",
       " 'Tea-wisdom of the day: Socialise with compassion, kindness and grace.',\n",
       " 'Tea-wisdom of the day: Empty yourself and the universe fill you.',\n",
       " 'Tea-wisdom of the day: When ego is lost, then universality exists.',\n",
       " 'Tea-wisdom of the day: To be calm is the highest achievement of the self.',\n",
       " 'Tea-wisdom of the day: May this day bring you peace, tranquility and harmony.',\n",
       " 'Tea-wisdom of the day: Experience will give you wisdom.',\n",
       " 'Tea-wisdom of the day: Give forgiveness; that is your greatness.',\n",
       " 'Tea-wisdom of the day: Live in your strength.',\n",
       " 'Tea-wisdom of the day: Every smile is a direct achievement.',\n",
       " 'Tea-wisdom of the day: You are unlimited.',\n",
       " 'Tea-wisdom of the day: An attitude of gratitude brings opportunities.',\n",
       " 'Tea-wisdom of the day: Love is an elevated self.',\n",
       " 'Tea-wisdom of the day: Compassion has no limit. Kindness has no enemy.',\n",
       " 'Tea-wisdom of the day: Walk in balance on mother Earth.',\n",
       " 'Tea-wisdom of the day: True surrender is true power.',\n",
       " \"Tea-wisdom of the day: Let your heart speak to other's hearts.\",\n",
       " 'Tea-wisdom of the day: See me with a new face every day.',\n",
       " 'Tea-wisdom of the day: Appreciate yourself and honor your soul.',\n",
       " 'Tea-wisdom of the day: Be compassionate to yourself.',\n",
       " 'Tea-wisdom of the day: Accept this moment as it is and be in peace.',\n",
       " 'Tea-wisdom of the day: Walk in balance on mother Earth. (Courtesy of @BrianBurford )',\n",
       " 'Tea-wisdom of the day: Raise your words not your voice.',\n",
       " 'Tea-wisdom of the day: Sit and travel into the deepest part of your being.',\n",
       " 'Tea-wisdom of the day: Recognize the other person is you.',\n",
       " 'Tea-wisdom of the day: The art of happiness is to serve all.',\n",
       " \"Tea-wisdom of the day: We can find ourselves only in someone's mirror. (Courtesy of @BrianBurford)\",\n",
       " 'Tea-wisdom of the day: Wake up to your own truth.',\n",
       " 'Tea-wisdom of the day: Without wings, I fly about looking for you. (Courtesy of @BrianBurford)',\n",
       " 'Tea-wisdom of the day: We are spiritual beings having a human experience.',\n",
       " 'Tea-wisdom of the day: Without opening your door, you can know the whole world. (Courtesy of @BrianBurford)',\n",
       " 'Tea-wisdom of the day: Give up your limiting beliefs.',\n",
       " 'Tea-wisdom of the day: Do easy things, before they become too hard.',\n",
       " 'Tea-wisdom of the day: Do less correcting and more connecting.',\n",
       " 'Tea-wisdom of the day: Give yourself a chance. (Courtesy of @BrianBurford)',\n",
       " 'Tea-wisdom of the day: Give up your resistance to change.',\n",
       " 'Tea-wisdom of the day: Be not affected by neither praise nor insult. (Again, courtesy of @BrianBurford)',\n",
       " \"Tea-wisdom of the day: When in doubt, do the courageous thing. (Today's tea-wisdom, courtesy of @BrianBurford)\",\n",
       " 'Tea-wisdom of the day: My heart is nothing but the home of god.',\n",
       " 'Tea-wisdom of the day: Goodness is never fearful.',\n",
       " 'Tea-wisdom of the day: Beauty resides in your own eyes.',\n",
       " 'Tea-wisdom of the day: When you let go of what you think life should be, life gets clear.',\n",
       " 'Tea-wisdom of the day: Whatever you do, be in love.',\n",
       " 'Tea-wisdom of the day: Let your life become your altar.',\n",
       " 'Tea-wisdom of the day: One smile may open the world for you.',\n",
       " 'Tea-wisdom of the day: Patience is looking at the night and seeing the day.',\n",
       " 'Tea-wisdom of the day: Lucky is the eye that recognises reality.',\n",
       " 'Tea-wisdom of the day: Life is full of power – live it.',\n",
       " 'Tea-wisdom of the day: Master yourself.',\n",
       " 'Tea-wisdom of the day: Life is a working meditation.',\n",
       " 'Tea-wisdom of the day: Life is flowing – moment to moment – flow with it.',\n",
       " 'Tea-wisdom of the day: Look for the devil in you, not in others.',\n",
       " 'Tea-wisdom of the day: One smile may open the world for you.',\n",
       " 'Tea-wisdom of the day: One who knows himself knows god.',\n",
       " 'Tea-wisdom of the day: Live with an attitude of gratitude.',\n",
       " 'Tea-wisdom of the day: Let the disease of ego depart.',\n",
       " 'Tea-wisdom of the day: Let us go and dwell in the heart of that precious secret.',\n",
       " 'Tea-wisdom of the day: Look at yourself and remember me.',\n",
       " 'Tea-wisdom of the day: Live with reverence – for yourself and others.',\n",
       " 'Tea-wisdom of the day: Live to experience, to give.',\n",
       " 'Tea-wisdom of the day: Be the answer not the question.',\n",
       " 'Tea-wisdom of the day: Oh, see the astonishing light of your own being.',\n",
       " 'Tea-wisdom of the day: One does not make friends. One recognizes them.',\n",
       " 'Tea-wisdom of the day: Look on everything with an impartial eye.',\n",
       " 'Tea-wisdom of the day: Look at the optimism of nature.',\n",
       " 'Tea-wisdom of the day: One day your heart will take you to your lover.',\n",
       " 'Tea-wisdom of the day: Let silence take you to the core of life.',\n",
       " 'Tea-wisdom of the day: Let life be with you, not against you.',\n",
       " 'Tea-wisdom of the day: Look within, everything you want is there.',\n",
       " 'Tea-wisdom of the day: One’s happiness can make the entire world smile.',\n",
       " 'Tea-wisdom of the day: Let us not forget that we belong to each other.',\n",
       " 'Tea-wisdom of the day: Lovers are patient.',\n",
       " 'Tea-wisdom of the day: A broken heart hides so many treasures.',\n",
       " 'Tea-wisdom of the day: Love is yearning.',\n",
       " 'Tea-wisdom of the day: All of nature is listening without ears.',\n",
       " 'Tea-wisdom of the day: All of nature is singing without tongues.',\n",
       " \"Tea-wisdom of the day: One's sorrow at the other side of the world can make the entire world suffer.\",\n",
       " 'Tea-wisdom of the day: Life is a flow of love, only your participation in requested.',\n",
       " 'Tea-wisdom of the day: May this day be a day of peace and joy.',\n",
       " 'Tea-wisdom of the day: Meditate on your breath of life.',\n",
       " 'Tea-wisdom of the day: My soul is my guide.',\n",
       " 'Tea-wisdom of the day: Our intuition lies in our intuition.',\n",
       " 'Tea-wisdom of the day: My heart is nothing but the home of god.',\n",
       " 'Tea-wisdom of the day: Patience is looking at the night and seeing the day.',\n",
       " 'Tea-wisdom of the day: A soul moon appeared in the path of my heart.',\n",
       " 'Tea-wisdom of the day: Lovers are patient.',\n",
       " 'Tea-wisdom of the day: A symphony of love playing to the world.',\n",
       " 'Tea-wisdom of the day: Love spreads knowledge... and Carlos spreads',\n",
       " \"Tea-wisdom of the day: Accept yourself, you don't have to be accepted by others.\",\n",
       " 'Tea-wisdom of the day: Love knows no barriers, no desires, no needs, no wants.',\n",
       " 'Tea-wisdom of the day: Love knows the secret way there.',\n",
       " 'Tea-wisdom of the day: Lose yourself completely, return to the root.',\n",
       " 'Tea-wisdom of the day: Love is simple, yet a miracle.',\n",
       " 'Tea-wisdom of the day: Love says \"Let yourself, go!\"',\n",
       " 'Tea-wisdom of the day: Love makes you aware.',\n",
       " \"Tea-wisdom of the day: Apologize if you've hurt.\",\n",
       " 'Tea-wisdom of the day: Apart from love, everything passes away.',\n",
       " 'Tea-wisdom of the day: Life is sacred.',\n",
       " 'Tea-wisdom of the day: Know that one day your pain will become your cure.',\n",
       " 'Tea-wisdom of the day: Love heals.',\n",
       " 'Tea-wisdom of the day: Life is so hard – how can we be anything but kind?',\n",
       " 'Tea-wisdom of the day: Love is energy, and energy must move all the time.',\n",
       " 'Tea-wisdom of the day: Let your life become your altar.',\n",
       " 'Tea-wisdom of the day: Love is without condition.',\n",
       " \"Tea-wisdom of the day: Life's picture is constantly undergoing change.\",\n",
       " 'Tea-wisdom of the day: Life is full of power — live it.',\n",
       " 'Tea-wisdom of the day: More hugging—less tugging.',\n",
       " \"Tea-wisdom of the day: Let's only say what our hearts desire.\",\n",
       " \"Tea-wisdom of the day: Let's keep silence but make our hearts move.\",\n",
       " 'Tea-wisdom of the day: How can I honor you – how can I serve you.',\n",
       " 'Tea-wisdom of the day: How quickly do you do, what your soul wants.',\n",
       " 'Tea-wisdom of the day: How quickly do you do, what your soul wants.',\n",
       " 'Tea-wisdom of the day: Finger paint more – point the finger less.',\n",
       " 'Tea-wisdom of the day: Find peace within.',\n",
       " 'Tea-wisdom of the day: Life is perfect.',\n",
       " 'Tea-wisdom of the day: If you have little, give of your heart',\n",
       " 'Tea-wisdom of the day: Remember that pain is only thoughts.',\n",
       " 'Tea-wisdom of the day: Blessed is the footstep that treads on the path of love.']"
      ]
     },
     "execution_count": 11,
     "metadata": {},
     "output_type": "execute_result"
    }
   ],
   "source": [
    "cleanwisdoms"
   ]
  },
  {
   "cell_type": "code",
   "execution_count": 96,
   "metadata": {
    "collapsed": false
   },
   "outputs": [],
   "source": [
    "import re\n",
    "\n",
    "pattern = re.compile('\\(.+?\\)', re.I)\n",
    "purewisdoms = [x.replace('Tea-wisdom of the day: ', '') for x in cleanwisdoms]\n",
    "purewisdoms = [pattern.sub('', x) for x in purewisdoms]\n"
   ]
  },
  {
   "cell_type": "code",
   "execution_count": 144,
   "metadata": {
    "collapsed": false
   },
   "outputs": [],
   "source": [
    "from math import ceil, floor\n",
    "\n",
    "def get_wisdoms(n):\n",
    "    return([purewisdoms[x] for x in np.random.randint(len(purewisdoms), size = n)])\n",
    "\n",
    "def get_wisdomsa(n):\n",
    "    return([purewisdoms[x] for x in np.random.randint(floor(len(purewisdoms)/2), size = n)])\n",
    "\n",
    "def get_wisdomsb(n):\n",
    "    return([purewisdoms[x + floor(len(purewisdoms)/2)] for x in np.random.randint(floor(len(purewisdoms)/2), size = n)])"
   ]
  },
  {
   "cell_type": "code",
   "execution_count": 146,
   "metadata": {
    "collapsed": false
   },
   "outputs": [
    {
     "data": {
      "text/plain": [
       "125"
      ]
     },
     "execution_count": 146,
     "metadata": {},
     "output_type": "execute_result"
    }
   ],
   "source": [
    "len(purewisdoms)"
   ]
  },
  {
   "cell_type": "code",
   "execution_count": 33,
   "metadata": {
    "collapsed": true
   },
   "outputs": [],
   "source": [
    "import numpy as np"
   ]
  },
  {
   "cell_type": "code",
   "execution_count": 145,
   "metadata": {
    "collapsed": false
   },
   "outputs": [],
   "source": [
    "with open('teawisdoms.txt', 'w') as c:\n",
    "    for line in get_wisdomsa(100000):\n",
    "        c.write(''.join([line, \"\\n\"]))\n",
    "    for line in get_wisdomsb(100000):\n",
    "        c.write(''.join([line, \"\\n\"]))"
   ]
  },
  {
   "cell_type": "code",
   "execution_count": 136,
   "metadata": {
    "collapsed": false
   },
   "outputs": [],
   "source": [
    "with open('teawisdoms-orig.txt', 'w') as c:\n",
    "    for line in purewisdoms:\n",
    "        c.write(''.join([line, \"\\n\"]))"
   ]
  },
  {
   "cell_type": "code",
   "execution_count": 12,
   "metadata": {
    "collapsed": false
   },
   "outputs": [
    {
     "ename": "FileNotFoundError",
     "evalue": "[Errno 2] No such file or directory: 'th'",
     "output_type": "error",
     "traceback": [
      "\u001b[0;31m---------------------------------------------------------------------------\u001b[0m",
      "\u001b[0;31mFileNotFoundError\u001b[0m                         Traceback (most recent call last)",
      "\u001b[0;32m<ipython-input-12-e80340b47a81>\u001b[0m in \u001b[0;36m<module>\u001b[0;34m()\u001b[0m\n\u001b[0;32m----> 1\u001b[0;31m \u001b[0msubprocess\u001b[0m\u001b[0;34m.\u001b[0m\u001b[0mcheck_output\u001b[0m\u001b[0;34m(\u001b[0m\u001b[0;34m[\u001b[0m\u001b[0;34m'th'\u001b[0m\u001b[0;34m]\u001b[0m\u001b[0;34m)\u001b[0m\u001b[0;34m\u001b[0m\u001b[0m\n\u001b[0m",
      "\u001b[0;32m/usr/local/Cellar/python3/3.5.1/Frameworks/Python.framework/Versions/3.5/lib/python3.5/subprocess.py\u001b[0m in \u001b[0;36mcheck_output\u001b[0;34m(timeout, *popenargs, **kwargs)\u001b[0m\n\u001b[1;32m    627\u001b[0m \u001b[0;34m\u001b[0m\u001b[0m\n\u001b[1;32m    628\u001b[0m     return run(*popenargs, stdout=PIPE, timeout=timeout, check=True,\n\u001b[0;32m--> 629\u001b[0;31m                **kwargs).stdout\n\u001b[0m\u001b[1;32m    630\u001b[0m \u001b[0;34m\u001b[0m\u001b[0m\n\u001b[1;32m    631\u001b[0m \u001b[0;34m\u001b[0m\u001b[0m\n",
      "\u001b[0;32m/usr/local/Cellar/python3/3.5.1/Frameworks/Python.framework/Versions/3.5/lib/python3.5/subprocess.py\u001b[0m in \u001b[0;36mrun\u001b[0;34m(input, timeout, check, *popenargs, **kwargs)\u001b[0m\n\u001b[1;32m    694\u001b[0m         \u001b[0mkwargs\u001b[0m\u001b[0;34m[\u001b[0m\u001b[0;34m'stdin'\u001b[0m\u001b[0;34m]\u001b[0m \u001b[0;34m=\u001b[0m \u001b[0mPIPE\u001b[0m\u001b[0;34m\u001b[0m\u001b[0m\n\u001b[1;32m    695\u001b[0m \u001b[0;34m\u001b[0m\u001b[0m\n\u001b[0;32m--> 696\u001b[0;31m     \u001b[0;32mwith\u001b[0m \u001b[0mPopen\u001b[0m\u001b[0;34m(\u001b[0m\u001b[0;34m*\u001b[0m\u001b[0mpopenargs\u001b[0m\u001b[0;34m,\u001b[0m \u001b[0;34m**\u001b[0m\u001b[0mkwargs\u001b[0m\u001b[0;34m)\u001b[0m \u001b[0;32mas\u001b[0m \u001b[0mprocess\u001b[0m\u001b[0;34m:\u001b[0m\u001b[0;34m\u001b[0m\u001b[0m\n\u001b[0m\u001b[1;32m    697\u001b[0m         \u001b[0;32mtry\u001b[0m\u001b[0;34m:\u001b[0m\u001b[0;34m\u001b[0m\u001b[0m\n\u001b[1;32m    698\u001b[0m             \u001b[0mstdout\u001b[0m\u001b[0;34m,\u001b[0m \u001b[0mstderr\u001b[0m \u001b[0;34m=\u001b[0m \u001b[0mprocess\u001b[0m\u001b[0;34m.\u001b[0m\u001b[0mcommunicate\u001b[0m\u001b[0;34m(\u001b[0m\u001b[0minput\u001b[0m\u001b[0;34m,\u001b[0m \u001b[0mtimeout\u001b[0m\u001b[0;34m=\u001b[0m\u001b[0mtimeout\u001b[0m\u001b[0;34m)\u001b[0m\u001b[0;34m\u001b[0m\u001b[0m\n",
      "\u001b[0;32m/usr/local/Cellar/python3/3.5.1/Frameworks/Python.framework/Versions/3.5/lib/python3.5/subprocess.py\u001b[0m in \u001b[0;36m__init__\u001b[0;34m(self, args, bufsize, executable, stdin, stdout, stderr, preexec_fn, close_fds, shell, cwd, env, universal_newlines, startupinfo, creationflags, restore_signals, start_new_session, pass_fds)\u001b[0m\n\u001b[1;32m    948\u001b[0m                                 \u001b[0mc2pread\u001b[0m\u001b[0;34m,\u001b[0m \u001b[0mc2pwrite\u001b[0m\u001b[0;34m,\u001b[0m\u001b[0;34m\u001b[0m\u001b[0m\n\u001b[1;32m    949\u001b[0m                                 \u001b[0merrread\u001b[0m\u001b[0;34m,\u001b[0m \u001b[0merrwrite\u001b[0m\u001b[0;34m,\u001b[0m\u001b[0;34m\u001b[0m\u001b[0m\n\u001b[0;32m--> 950\u001b[0;31m                                 restore_signals, start_new_session)\n\u001b[0m\u001b[1;32m    951\u001b[0m         \u001b[0;32mexcept\u001b[0m\u001b[0;34m:\u001b[0m\u001b[0;34m\u001b[0m\u001b[0m\n\u001b[1;32m    952\u001b[0m             \u001b[0;31m# Cleanup if the child failed starting.\u001b[0m\u001b[0;34m\u001b[0m\u001b[0;34m\u001b[0m\u001b[0m\n",
      "\u001b[0;32m/usr/local/Cellar/python3/3.5.1/Frameworks/Python.framework/Versions/3.5/lib/python3.5/subprocess.py\u001b[0m in \u001b[0;36m_execute_child\u001b[0;34m(self, args, executable, preexec_fn, close_fds, pass_fds, cwd, env, startupinfo, creationflags, shell, p2cread, p2cwrite, c2pread, c2pwrite, errread, errwrite, restore_signals, start_new_session)\u001b[0m\n\u001b[1;32m   1542\u001b[0m                             \u001b[0;32melse\u001b[0m\u001b[0;34m:\u001b[0m\u001b[0;34m\u001b[0m\u001b[0m\n\u001b[1;32m   1543\u001b[0m                                 \u001b[0merr_msg\u001b[0m \u001b[0;34m+=\u001b[0m \u001b[0;34m': '\u001b[0m \u001b[0;34m+\u001b[0m \u001b[0mrepr\u001b[0m\u001b[0;34m(\u001b[0m\u001b[0morig_executable\u001b[0m\u001b[0;34m)\u001b[0m\u001b[0;34m\u001b[0m\u001b[0m\n\u001b[0;32m-> 1544\u001b[0;31m                     \u001b[0;32mraise\u001b[0m \u001b[0mchild_exception_type\u001b[0m\u001b[0;34m(\u001b[0m\u001b[0merrno_num\u001b[0m\u001b[0;34m,\u001b[0m \u001b[0merr_msg\u001b[0m\u001b[0;34m)\u001b[0m\u001b[0;34m\u001b[0m\u001b[0m\n\u001b[0m\u001b[1;32m   1545\u001b[0m                 \u001b[0;32mraise\u001b[0m \u001b[0mchild_exception_type\u001b[0m\u001b[0;34m(\u001b[0m\u001b[0merr_msg\u001b[0m\u001b[0;34m)\u001b[0m\u001b[0;34m\u001b[0m\u001b[0m\n\u001b[1;32m   1546\u001b[0m \u001b[0;34m\u001b[0m\u001b[0m\n",
      "\u001b[0;31mFileNotFoundError\u001b[0m: [Errno 2] No such file or directory: 'th'"
     ]
    }
   ],
   "source": []
  },
  {
   "cell_type": "code",
   "execution_count": 21,
   "metadata": {
    "collapsed": false
   },
   "outputs": [
    {
     "name": "stdout",
     "output_type": "stream",
     "text": [
      "b'Tea-wisdom RNN.ipynb\\nchar-rnn\\n'\n"
     ]
    },
    {
     "ename": "CalledProcessError",
     "evalue": "Command '['th', 'char-rnn/sample.lua', 'char-rnn/cv/lm_lstm_epoch14.35_4.0731.t7', '', '-opencl', '1', '-temperature', '1']' returned non-zero exit status 127",
     "output_type": "error",
     "traceback": [
      "\u001b[0;31m---------------------------------------------------------------------------\u001b[0m",
      "\u001b[0;31mCalledProcessError\u001b[0m                        Traceback (most recent call last)",
      "\u001b[0;32m<ipython-input-21-5a40c4f47629>\u001b[0m in \u001b[0;36m<module>\u001b[0;34m()\u001b[0m\n\u001b[1;32m     13\u001b[0m                                     \u001b[0;34m'-temperature'\u001b[0m\u001b[0;34m,\u001b[0m\u001b[0;34m\u001b[0m\u001b[0m\n\u001b[1;32m     14\u001b[0m                                     '1'], shell=True))\n\u001b[0;32m---> 15\u001b[0;31m \u001b[0minfiwisdoms\u001b[0m\u001b[0;34m(\u001b[0m\u001b[0;34m'cv/lm_lstm_epoch14.35_4.0731.t7'\u001b[0m\u001b[0;34m)\u001b[0m\u001b[0;34m\u001b[0m\u001b[0m\n\u001b[0m",
      "\u001b[0;32m<ipython-input-21-5a40c4f47629>\u001b[0m in \u001b[0;36minfiwisdoms\u001b[0;34m(checkpoint, seed)\u001b[0m\n\u001b[1;32m     12\u001b[0m                                     \u001b[0;34m'1'\u001b[0m\u001b[0;34m,\u001b[0m\u001b[0;34m\u001b[0m\u001b[0m\n\u001b[1;32m     13\u001b[0m                                     \u001b[0;34m'-temperature'\u001b[0m\u001b[0;34m,\u001b[0m\u001b[0;34m\u001b[0m\u001b[0m\n\u001b[0;32m---> 14\u001b[0;31m                                     '1'], shell=True))\n\u001b[0m\u001b[1;32m     15\u001b[0m \u001b[0minfiwisdoms\u001b[0m\u001b[0;34m(\u001b[0m\u001b[0;34m'cv/lm_lstm_epoch14.35_4.0731.t7'\u001b[0m\u001b[0;34m)\u001b[0m\u001b[0;34m\u001b[0m\u001b[0m\n",
      "\u001b[0;32m/usr/local/Cellar/python3/3.5.1/Frameworks/Python.framework/Versions/3.5/lib/python3.5/subprocess.py\u001b[0m in \u001b[0;36mcheck_output\u001b[0;34m(timeout, *popenargs, **kwargs)\u001b[0m\n\u001b[1;32m    627\u001b[0m \u001b[0;34m\u001b[0m\u001b[0m\n\u001b[1;32m    628\u001b[0m     return run(*popenargs, stdout=PIPE, timeout=timeout, check=True,\n\u001b[0;32m--> 629\u001b[0;31m                **kwargs).stdout\n\u001b[0m\u001b[1;32m    630\u001b[0m \u001b[0;34m\u001b[0m\u001b[0m\n\u001b[1;32m    631\u001b[0m \u001b[0;34m\u001b[0m\u001b[0m\n",
      "\u001b[0;32m/usr/local/Cellar/python3/3.5.1/Frameworks/Python.framework/Versions/3.5/lib/python3.5/subprocess.py\u001b[0m in \u001b[0;36mrun\u001b[0;34m(input, timeout, check, *popenargs, **kwargs)\u001b[0m\n\u001b[1;32m    709\u001b[0m         \u001b[0;32mif\u001b[0m \u001b[0mcheck\u001b[0m \u001b[0;32mand\u001b[0m \u001b[0mretcode\u001b[0m\u001b[0;34m:\u001b[0m\u001b[0;34m\u001b[0m\u001b[0m\n\u001b[1;32m    710\u001b[0m             raise CalledProcessError(retcode, process.args,\n\u001b[0;32m--> 711\u001b[0;31m                                      output=stdout, stderr=stderr)\n\u001b[0m\u001b[1;32m    712\u001b[0m     \u001b[0;32mreturn\u001b[0m \u001b[0mCompletedProcess\u001b[0m\u001b[0;34m(\u001b[0m\u001b[0mprocess\u001b[0m\u001b[0;34m.\u001b[0m\u001b[0margs\u001b[0m\u001b[0;34m,\u001b[0m \u001b[0mretcode\u001b[0m\u001b[0;34m,\u001b[0m \u001b[0mstdout\u001b[0m\u001b[0;34m,\u001b[0m \u001b[0mstderr\u001b[0m\u001b[0;34m)\u001b[0m\u001b[0;34m\u001b[0m\u001b[0m\n\u001b[1;32m    713\u001b[0m \u001b[0;34m\u001b[0m\u001b[0m\n",
      "\u001b[0;31mCalledProcessError\u001b[0m: Command '['th', 'char-rnn/sample.lua', 'char-rnn/cv/lm_lstm_epoch14.35_4.0731.t7', '', '-opencl', '1', '-temperature', '1']' returned non-zero exit status 127"
     ]
    }
   ],
   "source": [
    "import subprocess\n",
    "print(subprocess.check_output([\"ls\"]))\n",
    "\n",
    "#th = '/Users/christophe.carvenius/torch/install/bin/th'\n",
    "\n",
    "def infiwisdoms(checkpoint, seed = None):\n",
    "    return(subprocess.check_output(['th', \n",
    "                                    'char-rnn/sample.lua',\n",
    "                                    '/'.join(['char-rnn', checkpoint]),\n",
    "                                    '' if seed is None else ' '.join(['-primetext', seed]), \n",
    "                                    '-opencl',\n",
    "                                    '1', \n",
    "                                    '-temperature',\n",
    "                                    '1'], shell=True))\n",
    "infiwisdoms('cv/lm_lstm_epoch14.35_4.0731.t7')"
   ]
  },
  {
   "cell_type": "code",
   "execution_count": 19,
   "metadata": {
    "collapsed": false
   },
   "outputs": [
    {
     "data": {
      "text/plain": [
       "['th',\n",
       " 'char-rnn/sample.lua',\n",
       " 'char-rnn/checkpoint',\n",
       " '-primetext seed',\n",
       " '-opencl 1',\n",
       " '-temperature 1']"
      ]
     },
     "execution_count": 19,
     "metadata": {},
     "output_type": "execute_result"
    }
   ],
   "source": [
    "['th', \n",
    "'char-rnn/sample.lua',\n",
    "'/'.join(['char-rnn', 'checkpoint']),\n",
    "'' if '' is None else ' '.join(['-primetext', 'seed']), \n",
    "'-opencl 1', \n",
    "'-temperature 1']"
   ]
  }
 ],
 "metadata": {
  "kernelspec": {
   "display_name": "Python 3",
   "language": "python",
   "name": "python3"
  },
  "language_info": {
   "codemirror_mode": {
    "name": "ipython",
    "version": 3
   },
   "file_extension": ".py",
   "mimetype": "text/x-python",
   "name": "python",
   "nbconvert_exporter": "python",
   "pygments_lexer": "ipython3",
   "version": "3.5.1"
  }
 },
 "nbformat": 4,
 "nbformat_minor": 0
}
